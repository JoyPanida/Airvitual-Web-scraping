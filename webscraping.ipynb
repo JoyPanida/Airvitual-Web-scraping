{
  "nbformat": 4,
  "nbformat_minor": 0,
  "metadata": {
    "colab": {
      "name": "Untitled2.ipynb",
      "provenance": [],
      "collapsed_sections": []
    },
    "kernelspec": {
      "name": "python3",
      "display_name": "Python 3"
    }
  },
  "cells": [
    {
      "cell_type": "code",
      "metadata": {
        "id": "cdhY7eDu1EEa",
        "colab_type": "code",
        "colab": {}
      },
      "source": [
        "from requests import get\n",
        "from time import sleep,time\n",
        "from bs4 import BeautifulSoup\n",
        "\n",
        "provinces_list =[]\n",
        "pm_levels = []\n",
        "pm_values =[]\n",
        "\n",
        "provinces = ['uthai-thani', 'bangkok/wang-thonglang']\n"
      ],
      "execution_count": 0,
      "outputs": []
    },
    {
      "cell_type": "code",
      "metadata": {
        "id": "llegka9R2ZFO",
        "colab_type": "code",
        "colab": {
          "base_uri": "https://localhost:8080/",
          "height": 176
        },
        "outputId": "e799074c-2785-40a1-eca2-fd4667538767"
      },
      "source": [
        "for province in provinces:\n",
        "\n",
        "  url ='https://www.airvisual.com/thailand/'+ province \n",
        "  response = get(url)\n",
        "  #print(response.text[:500])\n",
        "  print(url)  \n",
        "\n",
        "  \n",
        "  html_soup = BeautifulSoup(response.text, 'html.parser')\n",
        "  type(html_soup)\n",
        "\n",
        "\n",
        "  pm_containers = html_soup.find_all('h1')\n",
        "  print(type(pm_containers))\n",
        "  print(len(pm_containers))  \n",
        "  print(pm_containers[0])\n",
        "\n",
        "\n",
        "\n",
        "  pm_province = pm_containers[0].b.text\n",
        "  provinces_list.append(pm_province)\n",
        "\n",
        "\n",
        "\n",
        "  pm_containers = html_soup.find_all('div',class_ =\"aqi-card-info-number\")\n",
        "  pm_value = pm_containers[0].span.text[:-6].replace(\"*\", \"\")\n",
        "  pm_values.append(pm_value)\n",
        "\n",
        "\n",
        "\n",
        "  pm_containers = html_soup.find_all('span',class_ =\"status-text\")\n",
        "  pm_level= pm_containers[0].text\n",
        "  pm_levels.append(pm_level)\n",
        "\n"
      ],
      "execution_count": 142,
      "outputs": [
        {
          "output_type": "stream",
          "text": [
            "https://www.airvisual.com/thailand/uthai-thani\n",
            "<class 'bs4.element.ResultSet'>\n",
            "1\n",
            "<h1 _ngcontent-sc38=\"\" title=\"&lt;b&gt;Uthai Thani&lt;/b&gt; air quality index (AQI) and PM2.5 air pollution is 70, Moderate\"><b>Uthai Thani</b> air quality index (AQI) and PM2.5 air pollution is 70, Moderate</h1>\n",
            "https://www.airvisual.com/thailand/bangkok/wang-thonglang\n",
            "<class 'bs4.element.ResultSet'>\n",
            "1\n",
            "<h1 _ngcontent-sc38=\"\" title=\"&lt;b&gt;Wang Thonglang&lt;/b&gt; air quality index (AQI) and PM2.5 air pollution is 64, Moderate\"><b>Wang Thonglang</b> air quality index (AQI) and PM2.5 air pollution is 64, Moderate</h1>\n"
          ],
          "name": "stdout"
        }
      ]
    },
    {
      "cell_type": "code",
      "metadata": {
        "id": "KaBp7vI_BrWr",
        "colab_type": "code",
        "colab": {
          "base_uri": "https://localhost:8080/",
          "height": 173
        },
        "outputId": "76447d03-6bec-4413-f3ae-50df0d9dd1d6"
      },
      "source": [
        "import pandas as pd\n",
        "\n",
        "pm_df = pd.DataFrame({'provinces':provinces_list,\n",
        "                       \"pm_values\":pm_values,\n",
        "                       \"level\": pm_levels,})\n",
        "print(pm_df.info())"
      ],
      "execution_count": 145,
      "outputs": [
        {
          "output_type": "stream",
          "text": [
            "<class 'pandas.core.frame.DataFrame'>\n",
            "RangeIndex: 2 entries, 0 to 1\n",
            "Data columns (total 3 columns):\n",
            "provinces    2 non-null object\n",
            "pm_values    2 non-null object\n",
            "level        2 non-null object\n",
            "dtypes: object(3)\n",
            "memory usage: 176.0+ bytes\n",
            "None\n"
          ],
          "name": "stdout"
        }
      ]
    },
    {
      "cell_type": "code",
      "metadata": {
        "id": "y7FXC82HdDSP",
        "colab_type": "code",
        "colab": {
          "base_uri": "https://localhost:8080/",
          "height": 110
        },
        "outputId": "50b5e534-9442-4ada-94ef-306b0c081fa0"
      },
      "source": [
        "pm_df"
      ],
      "execution_count": 146,
      "outputs": [
        {
          "output_type": "execute_result",
          "data": {
            "text/html": [
              "<div>\n",
              "<style scoped>\n",
              "    .dataframe tbody tr th:only-of-type {\n",
              "        vertical-align: middle;\n",
              "    }\n",
              "\n",
              "    .dataframe tbody tr th {\n",
              "        vertical-align: top;\n",
              "    }\n",
              "\n",
              "    .dataframe thead th {\n",
              "        text-align: right;\n",
              "    }\n",
              "</style>\n",
              "<table border=\"1\" class=\"dataframe\">\n",
              "  <thead>\n",
              "    <tr style=\"text-align: right;\">\n",
              "      <th></th>\n",
              "      <th>provinces</th>\n",
              "      <th>pm_values</th>\n",
              "      <th>level</th>\n",
              "    </tr>\n",
              "  </thead>\n",
              "  <tbody>\n",
              "    <tr>\n",
              "      <th>0</th>\n",
              "      <td>Uthai Thani</td>\n",
              "      <td>70</td>\n",
              "      <td>Moderate</td>\n",
              "    </tr>\n",
              "    <tr>\n",
              "      <th>1</th>\n",
              "      <td>Wang Thonglang</td>\n",
              "      <td>64</td>\n",
              "      <td>Moderate</td>\n",
              "    </tr>\n",
              "  </tbody>\n",
              "</table>\n",
              "</div>"
            ],
            "text/plain": [
              "        provinces pm_values     level\n",
              "0     Uthai Thani        70  Moderate\n",
              "1  Wang Thonglang        64  Moderate"
            ]
          },
          "metadata": {
            "tags": []
          },
          "execution_count": 146
        }
      ]
    },
    {
      "cell_type": "code",
      "metadata": {
        "id": "-SzLIztpdGsa",
        "colab_type": "code",
        "colab": {}
      },
      "source": [
        ""
      ],
      "execution_count": 0,
      "outputs": []
    }
  ]
}